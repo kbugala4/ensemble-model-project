{
 "cells": [
  {
   "cell_type": "markdown",
   "id": "b065f2a6",
   "metadata": {},
   "source": [
    "### Randomizacja wartości hiperparametrów algorytmu uczenia \n",
    "Klasa HyperparamsGenerator stanowi uniwersalne narzędzie do losowego generowania hiperparametrów modeli na podstawie zdefiniowanej konfiguracji. Umożliwia wykorzystanie własnej funkcji losującej lub domyślnej metody, która obsługuje trzy typy parametrów: \n",
    "[-] liczby całkowite (int),\n",
    "[-] zmiennoprzecinkowe (float),\n",
    "[-] wartości kategoryczne z listy (obiekty losowane z listy mogą być dowolnego typu, np. str).\n",
    "\n",
    "Dzięki wsparciu dla ustawienia ziarna mechanizmu generowania liczb pseudolosowych (seed) zapewnia możliwość reprodukowalnych wyników, co jest istotne w zaproponowanym podejściu do eksperymentów. Klasa skupia się wyłącznie na losowaniu rzeczywistych hiperparametrów na podstawie dostarczonej specyfikacji (np. zakres wartości czy lista opcji) w odpowiednim słowniku konfiguracyjnym. Klasa umożliwia także w prosty sposób wyłączenie opcji losowania i zwracanie wartości domyślnych, które opisane są w przekazanym słowniku."
   ]
  }
 ],
 "metadata": {
  "language_info": {
   "name": "python"
  }
 },
 "nbformat": 4,
 "nbformat_minor": 5
}
