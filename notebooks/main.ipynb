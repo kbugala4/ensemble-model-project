{
 "cells": [
  {
   "cell_type": "code",
   "execution_count": 1,
   "metadata": {},
   "outputs": [],
   "source": [
    "from utils.generate_hyperparams import HyperparamsGenerator\n",
    "from utils.generate_data_subset import DataSubsetGenerator\n",
    "from models.decision_tree_model import DecisionTreeModel\n",
    "\n",
    "\n",
    "example_dataset_conf = {\n",
    "    'dataset_name': 'data/processed/binary_balanced_airflight_satisfaction/train.csv',\n",
    "    'shrunk_size': 1000,\n",
    "    'n_attributes_max': 10,\n",
    "    'n_attributes_min': 5\n",
    "}\n",
    "\n",
    "\n",
    "model_conf = {\n",
    "    'model_name': 'DecisionTree',\n",
    "    'model_type': DecisionTreeModel,\n",
    "    'max_depth': {\n",
    "        'type': 'int',\n",
    "        'min': 10,\n",
    "        'max': 20\n",
    "    },\n",
    "    'min_samples_split': {\n",
    "        'type': 'int',\n",
    "        'min': 2,\n",
    "        'max': 10\n",
    "    },\n",
    "    'min_samples_leaf': {\n",
    "        'type': 'int',\n",
    "        'min': 1,\n",
    "        'max': 5\n",
    "    },\n",
    "    'max_features': {\n",
    "        'type': 'list',\n",
    "        'options': ['sqrt', 'log2', None]\n",
    "    },\n",
    "    'criterion': {\n",
    "        'type': 'list',\n",
    "        'options': ['gini', 'entropy']\n",
    "    },\n",
    "    'splitter': {\n",
    "        'type': 'list',\n",
    "        'options': ['best', 'random']\n",
    "    }        \n",
    "}\n",
    "\n",
    "\n",
    "ensemble_config = {\n",
    "    'run_id': 0,\n",
    "    'seed': 0,\n",
    "    'n_models': 3,\n",
    "}\n",
    "\n",
    "ensemble_config.update(model_conf)\n",
    "ensemble_config.update(example_dataset_conf)\n"
   ]
  },
  {
   "cell_type": "code",
   "execution_count": 3,
   "metadata": {},
   "outputs": [],
   "source": [
    "from pipelines.runner import Runner\n",
    "ensemble_model = Runner(hyperparam_generator=HyperparamsGenerator, data_sampler=DataSubsetGenerator)"
   ]
  },
  {
   "cell_type": "code",
   "execution_count": null,
   "metadata": {},
   "outputs": [
    {
     "ename": "AttributeError",
     "evalue": "'Runner' object has no attribute 'sampler'",
     "output_type": "error",
     "traceback": [
      "\u001b[31m---------------------------------------------------------------------------\u001b[39m",
      "\u001b[31mAttributeError\u001b[39m                            Traceback (most recent call last)",
      "\u001b[36mCell\u001b[39m\u001b[36m \u001b[39m\u001b[32mIn[4]\u001b[39m\u001b[32m, line 1\u001b[39m\n\u001b[32m----> \u001b[39m\u001b[32m1\u001b[39m \u001b[43mensemble_model\u001b[49m\u001b[43m.\u001b[49m\u001b[43mbuild_ensemble\u001b[49m\u001b[43m(\u001b[49m\u001b[43mensemble_config\u001b[49m\u001b[43m)\u001b[49m\n",
      "\u001b[36mFile \u001b[39m\u001b[32m~/KacperPrv/ZUM/ensemble-model-project/src/pipelines/runner.py:65\u001b[39m, in \u001b[36mRunner.build_ensemble\u001b[39m\u001b[34m(self, model_conf, seed)\u001b[39m\n\u001b[32m     50\u001b[39m conf = {\n\u001b[32m     51\u001b[39m     \u001b[33m'\u001b[39m\u001b[33mrun_id\u001b[39m\u001b[33m'\u001b[39m: \u001b[32m0\u001b[39m,\n\u001b[32m     52\u001b[39m     \u001b[33m'\u001b[39m\u001b[33mseed\u001b[39m\u001b[33m'\u001b[39m: \u001b[32m0\u001b[39m,\n\u001b[32m   (...)\u001b[39m\u001b[32m     61\u001b[39m         }\n\u001b[32m     62\u001b[39m     }\n\u001b[32m     64\u001b[39m \u001b[38;5;28;01mfor\u001b[39;00m i \u001b[38;5;129;01min\u001b[39;00m \u001b[38;5;28mrange\u001b[39m(model_conf[\u001b[33m'\u001b[39m\u001b[33mn_models\u001b[39m\u001b[33m'\u001b[39m]):\n\u001b[32m---> \u001b[39m\u001b[32m65\u001b[39m     X_sample, y_sample = \u001b[38;5;28;43mself\u001b[39;49m\u001b[43m.\u001b[49m\u001b[43msampler\u001b[49m.load_bootstrapped_dataset(model_conf[\u001b[33m'\u001b[39m\u001b[33mdataset_conf\u001b[39m\u001b[33m'\u001b[39m], seed=seed)\n\u001b[32m     66\u001b[39m     hyperparams = \u001b[38;5;28mself\u001b[39m.hyperparam_generator.generate_hyperparams(\u001b[38;5;28mself\u001b[39m.model_config, seed=seed)\n\u001b[32m     67\u001b[39m     model = model_conf[\u001b[33m'\u001b[39m\u001b[33mmodel_class\u001b[39m\u001b[33m'\u001b[39m](hyperparams)\n",
      "\u001b[31mAttributeError\u001b[39m: 'Runner' object has no attribute 'sampler'"
     ]
    }
   ],
   "source": [
    "# ensemble_model.build_ensemble(ensemble_config)"
   ]
  }
 ],
 "metadata": {
  "kernelspec": {
   "display_name": ".venv",
   "language": "python",
   "name": "python3"
  },
  "language_info": {
   "codemirror_mode": {
    "name": "ipython",
    "version": 3
   },
   "file_extension": ".py",
   "mimetype": "text/x-python",
   "name": "python",
   "nbconvert_exporter": "python",
   "pygments_lexer": "ipython3",
   "version": "3.11.13"
  }
 },
 "nbformat": 4,
 "nbformat_minor": 2
}
